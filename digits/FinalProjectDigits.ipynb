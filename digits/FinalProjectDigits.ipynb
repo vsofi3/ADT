{
  "nbformat": 4,
  "nbformat_minor": 0,
  "metadata": {
    "colab": {
      "name": "FinalProjectDigits.ipynb",
      "provenance": [],
      "collapsed_sections": [],
      "authorship_tag": "ABX9TyOtB6DjAWgl4LcJ10SkDKML",
      "include_colab_link": true
    },
    "kernelspec": {
      "name": "python3",
      "display_name": "Python 3"
    },
    "language_info": {
      "name": "python"
    }
  },
  "cells": [
    {
      "cell_type": "markdown",
      "metadata": {
        "id": "view-in-github",
        "colab_type": "text"
      },
      "source": [
        "<a href=\"https://colab.research.google.com/github/vsofi3/ADT/blob/main/digits/FinalProjectDigits.ipynb\" target=\"_parent\"><img src=\"https://colab.research.google.com/assets/colab-badge.svg\" alt=\"Open In Colab\"/></a>"
      ]
    },
    {
      "cell_type": "markdown",
      "source": [
        "**MNIST project using Convolutional Model**"
      ],
      "metadata": {
        "id": "-spKAc1DCsaU"
      }
    },
    {
      "cell_type": "markdown",
      "source": [
        "by Sofi Vinas (CIS 472)"
      ],
      "metadata": {
        "id": "EqoI1ZikC08P"
      }
    },
    {
      "cell_type": "markdown",
      "source": [
        "Setting up my environment"
      ],
      "metadata": {
        "id": "25asJDwvC4cj"
      }
    },
    {
      "cell_type": "code",
      "execution_count": 29,
      "metadata": {
        "id": "XA4hjQO8u5yc"
      },
      "outputs": [],
      "source": [
        "import torch\n",
        "import torchvision\n",
        "import matplotlib.pyplot as plt\n",
        "import torch.nn as nn\n",
        "import torch.nn.functional as F\n",
        "import torch.optim as optim"
      ]
    },
    {
      "cell_type": "markdown",
      "source": [
        "I've mounted my google drive as it contains my datasets and other colab notebooks"
      ],
      "metadata": {
        "id": "o6o8kX_qC642"
      }
    },
    {
      "cell_type": "code",
      "source": [
        "from google.colab import drive\n",
        "drive.mount('/content/MyDrive')"
      ],
      "metadata": {
        "colab": {
          "base_uri": "https://localhost:8080/"
        },
        "id": "ExlhasgFVDx5",
        "outputId": "891bae17-ea13-4f16-b712-bc8df4a9a560"
      },
      "execution_count": 30,
      "outputs": [
        {
          "output_type": "stream",
          "name": "stdout",
          "text": [
            "Drive already mounted at /content/MyDrive; to attempt to forcibly remount, call drive.mount(\"/content/MyDrive\", force_remount=True).\n"
          ]
        }
      ]
    },
    {
      "cell_type": "markdown",
      "source": [
        "Setting up my hyperparameters"
      ],
      "metadata": {
        "id": "epR1Kx0nUCxf"
      }
    },
    {
      "cell_type": "code",
      "source": [
        "num_epochs = 3\n",
        "num_classes = 10\n",
        "training_batch_size = 64\n",
        "# I'm printing out the tensor below that shows the 1000 test batch\n",
        "testing_batch_size = 1000\n",
        "learning_rate = 0.01\n",
        "momentum = 0.5\n",
        "log_interval = 10\n",
        "input_size = 784 # initializing for our logistic regression model\n",
        "\n",
        "random_seed = 1\n",
        "torch.backends.cudnn.enabled = False\n",
        "torch.manual_seed(random_seed)"
      ],
      "metadata": {
        "colab": {
          "base_uri": "https://localhost:8080/"
        },
        "id": "HYqbrrsIO0P0",
        "outputId": "e197c886-fe5f-4a22-cf51-e9bd8455fb85"
      },
      "execution_count": 31,
      "outputs": [
        {
          "output_type": "execute_result",
          "data": {
            "text/plain": [
              "<torch._C.Generator at 0x7f3eedbb8db0>"
            ]
          },
          "metadata": {},
          "execution_count": 31
        }
      ]
    },
    {
      "cell_type": "markdown",
      "source": [
        "**Let's load the data**"
      ],
      "metadata": {
        "id": "JKehwNOTCDVL"
      }
    },
    {
      "cell_type": "code",
      "source": [
        "train_loader = torch.utils.data.DataLoader(\n",
        "  torchvision.datasets.MNIST('/files/', train=True, download=True,\n",
        "                             transform=torchvision.transforms.Compose([\n",
        "                               torchvision.transforms.ToTensor(),\n",
        "                               torchvision.transforms.Normalize(\n",
        "                                 (0.1307,), (0.3081,))\n",
        "                             ])),\n",
        "  batch_size=training_batch_size, shuffle=True)\n",
        "\n",
        "test_loader = torch.utils.data.DataLoader(\n",
        "    torchvision.datasets.MNIST('/files/', train=False, download=True,\n",
        "                             transform=torchvision.transforms.Compose([\n",
        "                               torchvision.transforms.ToTensor(),\n",
        "                               torchvision.transforms.Normalize(\n",
        "                                 (0.1307,), (0.3081,))\n",
        "                             ])),\n",
        "  batch_size=testing_batch_size, shuffle=True)"
      ],
      "metadata": {
        "id": "78ez2Qs_SSAX"
      },
      "execution_count": 32,
      "outputs": []
    },
    {
      "cell_type": "code",
      "source": [
        "image_examples = enumerate(test_loader)\n",
        "batch_idx, (example_data, example_targets) = next(image_examples)"
      ],
      "metadata": {
        "id": "8M1rNFRESSFw"
      },
      "execution_count": 33,
      "outputs": []
    },
    {
      "cell_type": "markdown",
      "source": [
        "**Test batch tensor**"
      ],
      "metadata": {
        "id": "2rbUNNL1CIxn"
      }
    },
    {
      "cell_type": "code",
      "source": [
        "# Let's look at how our test batch is structured\n",
        "example_data.shape"
      ],
      "metadata": {
        "colab": {
          "base_uri": "https://localhost:8080/"
        },
        "id": "dY4GeA20SdU1",
        "outputId": "8628da7d-c0ac-4fb9-f7d3-eef298226fca"
      },
      "execution_count": 34,
      "outputs": [
        {
          "output_type": "execute_result",
          "data": {
            "text/plain": [
              "torch.Size([1000, 1, 28, 28])"
            ]
          },
          "metadata": {},
          "execution_count": 34
        }
      ]
    },
    {
      "cell_type": "code",
      "source": [
        "# This means we have 1000 examples of 28x28 pixels in grayscale\n",
        "# We can use matplotlib to visualize some of this data\n",
        "\n",
        "figure = plt.figure()\n",
        "for i in range(6):\n",
        "  plt.subplot(2,3,i+1)\n",
        "  plt.tight_layout()\n",
        "  plt.imshow(example_data[i][0], cmap='gray', interpolation='none')\n",
        "  plt.title(\"Ground Truth: {}\".format(example_targets[i]))\n",
        "  plt.xticks([])\n",
        "  plt.yticks([])\n",
        "figure\n",
        "\n",
        "print(\"Images paired with their true classification\")"
      ],
      "metadata": {
        "colab": {
          "base_uri": "https://localhost:8080/",
          "height": 301
        },
        "id": "9b25BAHbSpeD",
        "outputId": "17a388bb-46cf-4e88-f23d-3b978dc47270"
      },
      "execution_count": 35,
      "outputs": [
        {
          "output_type": "stream",
          "name": "stdout",
          "text": [
            "Images paired with their true classification\n"
          ]
        },
        {
          "output_type": "display_data",
          "data": {
            "text/plain": [
              "<Figure size 432x288 with 6 Axes>"
            ],
            "image/png": "[encoded data removed]"
          },
          "metadata": {}
        }
      ]
    },
    {
      "cell_type": "markdown",
      "source": [
        "https://pytorch.org/vision/stable/models.html"
      ],
      "metadata": {
        "id": "BYvZE_bBCcTi"
      }
    },
    {
      "cell_type": "code",
      "source": [
        "# Let's make a simple logistic regression model (using Logistic Regression class)\n",
        "class LogisticRegression(nn.Module): \n",
        "    def __init__(self, input_size, num_classes): \n",
        "        super(LogisticRegression, self).__init__() \n",
        "        self.linear = nn.Linear(input_size, num_classes) \n",
        "    \n",
        "    def forward(self, x): \n",
        "        out = self.linear(x) \n",
        "        return out \n",
        "\n",
        "model2 = LogisticRegression(input_size, num_classes) \n",
        "print(model2)"
      ],
      "metadata": {
        "colab": {
          "base_uri": "https://localhost:8080/"
        },
        "id": "4cpASHZhedo5",
        "outputId": "904af0fb-fc10-422d-c69c-0d4d084c87e4"
      },
      "execution_count": 36,
      "outputs": [
        {
          "output_type": "stream",
          "name": "stdout",
          "text": [
            "LogisticRegression(\n",
            "  (linear): Linear(in_features=784, out_features=10, bias=True)\n",
            ")\n"
          ]
        }
      ]
    },
    {
      "cell_type": "code",
      "source": [
        "# Let's build our bulkier network  \n",
        "# I'm going to use two 2d convolutional layers with two fully-connected linear layers\n",
        "# I'm also going to use two dropout layers for regularization"
      ],
      "metadata": {
        "id": "yInAHmnCS8JW"
      },
      "execution_count": 37,
      "outputs": []
    },
    {
      "cell_type": "markdown",
      "source": [
        "Reference ResNet"
      ],
      "metadata": {
        "id": "HEnnymS6XCvk"
      }
    },
    {
      "cell_type": "markdown",
      "source": [
        "https://www.analyticsvidhya.com/blog/2021/06/build-resnet-from-scratch-with-python/"
      ],
      "metadata": {
        "id": "QRednk7NXBfO"
      }
    },
    {
      "cell_type": "code",
      "source": [
        "class Convolutional(nn.Module):\n",
        "    def __init__(self):\n",
        "        super(Convolutional, self).__init__()\n",
        "        self.conv1 = nn.Conv2d(1, 10, kernel_size=5)\n",
        "        self.conv2 = nn.Conv2d(10, 20, kernel_size=5)\n",
        "        self.conv2_drop = nn.Dropout2d()\n",
        "        self.fc1 = nn.Linear(320, 50)\n",
        "        self.fc2 = nn.Linear(50, 10)\n",
        "        # making sure our output is 10- matching the number of classes in the dataset\n",
        "\n",
        "    def forward(self, x):\n",
        "        x = F.relu(F.max_pool2d(self.conv1(x), 2))\n",
        "        x = F.relu(F.max_pool2d(self.conv2_drop(self.conv2(x)), 2))\n",
        "        x = x.view(-1, 320)\n",
        "        x = F.relu(self.fc1(x))\n",
        "        x = F.dropout(x, training=self.training)\n",
        "        x = self.fc2(x)\n",
        "        return F.log_softmax(x)\n"
      ],
      "metadata": {
        "id": "7anUTIC0TDRF"
      },
      "execution_count": 38,
      "outputs": []
    },
    {
      "cell_type": "code",
      "source": [
        "model = Convolutional()\n",
        "# I'll be using stochastic gradient descent as the optimizer\n",
        "# And our learning rate remains as 0.01\n",
        "optimizer = optim.SGD(model.parameters(), lr=learning_rate,\n",
        "                      momentum=momentum)\n",
        "\n",
        "# let's look at what the structure of our model is composed of\n",
        "print(model)"
      ],
      "metadata": {
        "colab": {
          "base_uri": "https://localhost:8080/"
        },
        "id": "5CQBG_4gTlFX",
        "outputId": "28645607-329f-4fa1-e8f1-a806c00cd633"
      },
      "execution_count": 39,
      "outputs": [
        {
          "output_type": "stream",
          "name": "stdout",
          "text": [
            "Convolutional(\n",
            "  (conv1): Conv2d(1, 10, kernel_size=(5, 5), stride=(1, 1))\n",
            "  (conv2): Conv2d(10, 20, kernel_size=(5, 5), stride=(1, 1))\n",
            "  (conv2_drop): Dropout2d(p=0.5, inplace=False)\n",
            "  (fc1): Linear(in_features=320, out_features=50, bias=True)\n",
            "  (fc2): Linear(in_features=50, out_features=10, bias=True)\n",
            ")\n"
          ]
        }
      ]
    },
    {
      "cell_type": "code",
      "source": [
        "# Let's train with our model\n",
        "# Loading the individual batches is handled by the DataLoader we imported\n",
        "\n",
        "# setting up some data structures to hold some important performance results\n",
        "train_losses = []\n",
        "test_losses = []\n",
        "train_counter = []\n",
        "test_counter = [i*len(train_loader.dataset) for i in range(num_epochs + 1)]\n",
        "\n",
        "\n",
        "# Running the test loop once before starting the training to see what accuracy/loss is achieved just with randomly initialized network parameters\n",
        "# here we're calling our regular model (convolutional), but we can switch to our logistic regression model to test that one out\n",
        "\n",
        "def training_loop(epoch):\n",
        "  model.train()\n",
        "  for batch_idx, (data, target) in enumerate(train_loader):\n",
        "    optimizer.zero_grad()\n",
        "    output = model(data)\n",
        "    loss = F.nll_loss(output, target)\n",
        "    loss.backward()\n",
        "    optimizer.step()\n",
        "    \n",
        "    if (batch_idx % log_interval == 0):\n",
        "      print('Training Epoch: {} [{}/{} ({:.0f}%)]\\tLoss: {:.6f}'.format(\n",
        "        epoch, batch_idx * len(data), len(train_loader.dataset),\n",
        "        100. * batch_idx / len(train_loader), loss.item()))\n",
        "      \n",
        "      train_losses.append(loss.item())\n",
        "      train_counter.append(\n",
        "        (batch_idx*64) + ((epoch-1)*len(train_loader.dataset)))\n",
        "      \n",
        "      # storing our results in .pth files in our results folder in google drive\n",
        "      # torch.save(model.state_dict(), '/results/model.pth')\n",
        "      # torch.save(optimizer.state_dict(), '/results/optimizer.pth')"
      ],
      "metadata": {
        "id": "Thgv1s0FT7lB"
      },
      "execution_count": 40,
      "outputs": []
    },
    {
      "cell_type": "code",
      "source": [
        "# setting up our test function\n",
        "\n",
        "def testing_loop():\n",
        "  model.eval()\n",
        "  accurate = 0\n",
        "  test_loss = 0\n",
        "  with torch.no_grad():\n",
        "    for data, target in test_loader:\n",
        "      output = model(data)\n",
        "      test_loss += F.nll_loss(output, target, size_average=False).item()\n",
        "      pred = output.data.max(1, keepdim=True)[1]\n",
        "      accurate += pred.eq(target.data.view_as(pred)).sum()\n",
        "  \n",
        "  test_loss /= len(test_loader.dataset)\n",
        "  test_losses.append(test_loss)\n",
        "  print('\\n Results Below:')\n",
        "  print('\\nTest set: Average loss: {:.4f}, Accuracy: {}/{} ({:.0f}%)\\n'.format(\n",
        "    test_loss, accurate, len(test_loader.dataset),\n",
        "    100. * accurate / len(test_loader.dataset)))"
      ],
      "metadata": {
        "id": "dA_Dl3OIUm48"
      },
      "execution_count": 41,
      "outputs": []
    },
    {
      "cell_type": "markdown",
      "source": [
        "Here I'll be entering the training loop"
      ],
      "metadata": {
        "id": "VrXI23qUDImv"
      }
    },
    {
      "cell_type": "code",
      "source": [
        "# with randomly initialized network parameters\n",
        "\n",
        "# call our test function from above\n",
        "testing_loop()\n",
        "for epoch in range(1, num_epochs + 1):\n",
        "  training_loop(epoch)\n",
        "  testing_loop()"
      ],
      "metadata": {
        "colab": {
          "base_uri": "https://localhost:8080/"
        },
        "id": "PdqynfWQUs_Q",
        "outputId": "c20aa166-1f3f-47bf-e8fc-1e482efc8b9b"
      },
      "execution_count": 42,
      "outputs": [
        {
          "output_type": "stream",
          "name": "stderr",
          "text": [
            "/usr/local/lib/python3.7/dist-packages/ipykernel_launcher.py:18: UserWarning: Implicit dimension choice for log_softmax has been deprecated. Change the call to include dim=X as an argument.\n",
            "/usr/local/lib/python3.7/dist-packages/torch/nn/_reduction.py:42: UserWarning: size_average and reduce args will be deprecated, please use reduction='sum' instead.\n",
            "  warnings.warn(warning.format(ret))\n"
          ]
        },
        {
          "output_type": "stream",
          "name": "stdout",
          "text": [
            "\n",
            " Results Below:\n",
            "\n",
            "Test set: Average loss: 2.3105, Accuracy: 973/10000 (10%)\n",
            "\n",
            "Training Epoch: 1 [0/60000 (0%)]\tLoss: 2.302462\n",
            "Training Epoch: 1 [640/60000 (1%)]\tLoss: 2.284884\n",
            "Training Epoch: 1 [1280/60000 (2%)]\tLoss: 2.303247\n",
            "Training Epoch: 1 [1920/60000 (3%)]\tLoss: 2.275234\n",
            "Training Epoch: 1 [2560/60000 (4%)]\tLoss: 2.283003\n",
            "Training Epoch: 1 [3200/60000 (5%)]\tLoss: 2.257317\n",
            "Training Epoch: 1 [3840/60000 (6%)]\tLoss: 2.255617\n",
            "Training Epoch: 1 [4480/60000 (7%)]\tLoss: 2.277248\n",
            "Training Epoch: 1 [5120/60000 (9%)]\tLoss: 2.239959\n",
            "Training Epoch: 1 [5760/60000 (10%)]\tLoss: 2.183639\n",
            "Training Epoch: 1 [6400/60000 (11%)]\tLoss: 2.202755\n",
            "Training Epoch: 1 [7040/60000 (12%)]\tLoss: 2.133589\n",
            "Training Epoch: 1 [7680/60000 (13%)]\tLoss: 1.995432\n",
            "Training Epoch: 1 [8320/60000 (14%)]\tLoss: 2.021953\n",
            "Training Epoch: 1 [8960/60000 (15%)]\tLoss: 1.939861\n",
            "Training Epoch: 1 [9600/60000 (16%)]\tLoss: 1.929582\n",
            "Training Epoch: 1 [10240/60000 (17%)]\tLoss: 1.679256\n",
            "Training Epoch: 1 [10880/60000 (18%)]\tLoss: 1.795295\n",
            "Training Epoch: 1 [11520/60000 (19%)]\tLoss: 1.530205\n",
            "Training Epoch: 1 [12160/60000 (20%)]\tLoss: 1.439907\n",
            "Training Epoch: 1 [12800/60000 (21%)]\tLoss: 1.514862\n",
            "Training Epoch: 1 [13440/60000 (22%)]\tLoss: 1.106192\n",
            "Training Epoch: 1 [14080/60000 (23%)]\tLoss: 1.069312\n",
            "Training Epoch: 1 [14720/60000 (25%)]\tLoss: 1.043120\n",
            "Training Epoch: 1 [15360/60000 (26%)]\tLoss: 0.932066\n",
            "Training Epoch: 1 [16000/60000 (27%)]\tLoss: 1.164968\n",
            "Training Epoch: 1 [16640/60000 (28%)]\tLoss: 0.843978\n",
            "Training Epoch: 1 [17280/60000 (29%)]\tLoss: 1.136544\n",
            "Training Epoch: 1 [17920/60000 (30%)]\tLoss: 1.039391\n",
            "Training Epoch: 1 [18560/60000 (31%)]\tLoss: 0.749586\n",
            "Training Epoch: 1 [19200/60000 (32%)]\tLoss: 0.770249\n",
            "Training Epoch: 1 [19840/60000 (33%)]\tLoss: 0.911584\n",
            "Training Epoch: 1 [20480/60000 (34%)]\tLoss: 1.050900\n",
            "Training Epoch: 1 [21120/60000 (35%)]\tLoss: 0.837626\n",
            "Training Epoch: 1 [21760/60000 (36%)]\tLoss: 1.040496\n",
            "Training Epoch: 1 [22400/60000 (37%)]\tLoss: 0.585693\n",
            "Training Epoch: 1 [23040/60000 (38%)]\tLoss: 0.755798\n",
            "Training Epoch: 1 [23680/60000 (39%)]\tLoss: 0.993264\n",
            "Training Epoch: 1 [24320/60000 (41%)]\tLoss: 0.635372\n",
            "Training Epoch: 1 [24960/60000 (42%)]\tLoss: 0.803114\n",
            "Training Epoch: 1 [25600/60000 (43%)]\tLoss: 0.862711\n",
            "Training Epoch: 1 [26240/60000 (44%)]\tLoss: 0.601015\n",
            "Training Epoch: 1 [26880/60000 (45%)]\tLoss: 0.621502\n",
            "Training Epoch: 1 [27520/60000 (46%)]\tLoss: 0.786261\n",
            "Training Epoch: 1 [28160/60000 (47%)]\tLoss: 0.491697\n",
            "Training Epoch: 1 [28800/60000 (48%)]\tLoss: 0.720475\n",
            "Training Epoch: 1 [29440/60000 (49%)]\tLoss: 0.844124\n",
            "Training Epoch: 1 [30080/60000 (50%)]\tLoss: 0.554808\n",
            "Training Epoch: 1 [30720/60000 (51%)]\tLoss: 0.435581\n",
            "Training Epoch: 1 [31360/60000 (52%)]\tLoss: 0.650782\n",
            "Training Epoch: 1 [32000/60000 (53%)]\tLoss: 0.545108\n",
            "Training Epoch: 1 [32640/60000 (54%)]\tLoss: 0.419028\n",
            "Training Epoch: 1 [33280/60000 (55%)]\tLoss: 0.422228\n",
            "Training Epoch: 1 [33920/60000 (57%)]\tLoss: 0.670475\n",
            "Training Epoch: 1 [34560/60000 (58%)]\tLoss: 0.556340\n",
            "Training Epoch: 1 [35200/60000 (59%)]\tLoss: 0.774781\n",
            "Training Epoch: 1 [35840/60000 (60%)]\tLoss: 0.444838\n",
            "Training Epoch: 1 [36480/60000 (61%)]\tLoss: 0.500857\n",
            "Training Epoch: 1 [37120/60000 (62%)]\tLoss: 0.505936\n",
            "Training Epoch: 1 [37760/60000 (63%)]\tLoss: 0.535253\n",
            "Training Epoch: 1 [38400/60000 (64%)]\tLoss: 0.769387\n",
            "Training Epoch: 1 [39040/60000 (65%)]\tLoss: 0.561271\n",
            "Training Epoch: 1 [39680/60000 (66%)]\tLoss: 0.512102\n",
            "Training Epoch: 1 [40320/60000 (67%)]\tLoss: 0.727780\n",
            "Training Epoch: 1 [40960/60000 (68%)]\tLoss: 0.550724\n",
            "Training Epoch: 1 [41600/60000 (69%)]\tLoss: 0.420398\n",
            "Training Epoch: 1 [42240/60000 (70%)]\tLoss: 0.484321\n",
            "Training Epoch: 1 [42880/60000 (71%)]\tLoss: 0.871996\n",
            "Training Epoch: 1 [43520/60000 (72%)]\tLoss: 0.497902\n",
            "Training Epoch: 1 [44160/60000 (74%)]\tLoss: 0.430530\n",
            "Training Epoch: 1 [44800/60000 (75%)]\tLoss: 0.446328\n",
            "Training Epoch: 1 [45440/60000 (76%)]\tLoss: 0.300929\n",
            "Training Epoch: 1 [46080/60000 (77%)]\tLoss: 0.480989\n",
            "Training Epoch: 1 [46720/60000 (78%)]\tLoss: 0.477936\n",
            "Training Epoch: 1 [47360/60000 (79%)]\tLoss: 0.430967\n",
            "Training Epoch: 1 [48000/60000 (80%)]\tLoss: 0.483765\n",
            "Training Epoch: 1 [48640/60000 (81%)]\tLoss: 0.530736\n",
            "Training Epoch: 1 [49280/60000 (82%)]\tLoss: 0.368729\n",
            "Training Epoch: 1 [49920/60000 (83%)]\tLoss: 0.329355\n",
            "Training Epoch: 1 [50560/60000 (84%)]\tLoss: 0.363611\n",
            "Training Epoch: 1 [51200/60000 (85%)]\tLoss: 0.587183\n",
            "Training Epoch: 1 [51840/60000 (86%)]\tLoss: 0.550101\n",
            "Training Epoch: 1 [52480/60000 (87%)]\tLoss: 0.613818\n",
            "Training Epoch: 1 [53120/60000 (88%)]\tLoss: 0.463264\n",
            "Training Epoch: 1 [53760/60000 (90%)]\tLoss: 0.242993\n",
            "Training Epoch: 1 [54400/60000 (91%)]\tLoss: 0.462442\n",
            "Training Epoch: 1 [55040/60000 (92%)]\tLoss: 0.444256\n",
            "Training Epoch: 1 [55680/60000 (93%)]\tLoss: 0.377911\n",
            "Training Epoch: 1 [56320/60000 (94%)]\tLoss: 0.226681\n",
            "Training Epoch: 1 [56960/60000 (95%)]\tLoss: 0.544181\n",
            "Training Epoch: 1 [57600/60000 (96%)]\tLoss: 0.753144\n",
            "Training Epoch: 1 [58240/60000 (97%)]\tLoss: 0.449515\n",
            "Training Epoch: 1 [58880/60000 (98%)]\tLoss: 0.347712\n",
            "Training Epoch: 1 [59520/60000 (99%)]\tLoss: 0.347702\n",
            "\n",
            " Results Below:\n",
            "\n",
            "Test set: Average loss: 0.1673, Accuracy: 9515/10000 (95%)\n",
            "\n",
            "Training Epoch: 2 [0/60000 (0%)]\tLoss: 0.743995\n",
            "Training Epoch: 2 [640/60000 (1%)]\tLoss: 0.482319\n",
            "Training Epoch: 2 [1280/60000 (2%)]\tLoss: 0.543882\n",
            "Training Epoch: 2 [1920/60000 (3%)]\tLoss: 0.324877\n",
            "Training Epoch: 2 [2560/60000 (4%)]\tLoss: 0.344421\n",
            "Training Epoch: 2 [3200/60000 (5%)]\tLoss: 0.364940\n",
            "Training Epoch: 2 [3840/60000 (6%)]\tLoss: 0.299239\n",
            "Training Epoch: 2 [4480/60000 (7%)]\tLoss: 0.402741\n",
            "Training Epoch: 2 [5120/60000 (9%)]\tLoss: 0.563537\n",
            "Training Epoch: 2 [5760/60000 (10%)]\tLoss: 0.402874\n",
            "Training Epoch: 2 [6400/60000 (11%)]\tLoss: 0.438138\n",
            "Training Epoch: 2 [7040/60000 (12%)]\tLoss: 0.439014\n",
            "Training Epoch: 2 [7680/60000 (13%)]\tLoss: 0.651100\n",
            "Training Epoch: 2 [8320/60000 (14%)]\tLoss: 0.780055\n",
            "Training Epoch: 2 [8960/60000 (15%)]\tLoss: 0.415127\n",
            "Training Epoch: 2 [9600/60000 (16%)]\tLoss: 0.333832\n",
            "Training Epoch: 2 [10240/60000 (17%)]\tLoss: 0.363960\n",
            "Training Epoch: 2 [10880/60000 (18%)]\tLoss: 0.441505\n",
            "Training Epoch: 2 [11520/60000 (19%)]\tLoss: 0.392803\n",
            "Training Epoch: 2 [12160/60000 (20%)]\tLoss: 0.461637\n",
            "Training Epoch: 2 [12800/60000 (21%)]\tLoss: 0.245004\n",
            "Training Epoch: 2 [13440/60000 (22%)]\tLoss: 0.418999\n",
            "Training Epoch: 2 [14080/60000 (23%)]\tLoss: 0.337433\n",
            "Training Epoch: 2 [14720/60000 (25%)]\tLoss: 0.374382\n",
            "Training Epoch: 2 [15360/60000 (26%)]\tLoss: 0.410111\n",
            "Training Epoch: 2 [16000/60000 (27%)]\tLoss: 0.221444\n",
            "Training Epoch: 2 [16640/60000 (28%)]\tLoss: 0.585935\n",
            "Training Epoch: 2 [17280/60000 (29%)]\tLoss: 0.330420\n",
            "Training Epoch: 2 [17920/60000 (30%)]\tLoss: 0.305324\n",
            "Training Epoch: 2 [18560/60000 (31%)]\tLoss: 0.265594\n",
            "Training Epoch: 2 [19200/60000 (32%)]\tLoss: 0.249973\n",
            "Training Epoch: 2 [19840/60000 (33%)]\tLoss: 0.217662\n",
            "Training Epoch: 2 [20480/60000 (34%)]\tLoss: 0.416705\n",
            "Training Epoch: 2 [21120/60000 (35%)]\tLoss: 0.388799\n",
            "Training Epoch: 2 [21760/60000 (36%)]\tLoss: 0.373121\n",
            "Training Epoch: 2 [22400/60000 (37%)]\tLoss: 0.283157\n",
            "Training Epoch: 2 [23040/60000 (38%)]\tLoss: 0.353654\n",
            "Training Epoch: 2 [23680/60000 (39%)]\tLoss: 0.335807\n",
            "Training Epoch: 2 [24320/60000 (41%)]\tLoss: 0.326096\n",
            "Training Epoch: 2 [24960/60000 (42%)]\tLoss: 0.188652\n",
            "Training Epoch: 2 [25600/60000 (43%)]\tLoss: 0.273965\n",
            "Training Epoch: 2 [26240/60000 (44%)]\tLoss: 0.462230\n",
            "Training Epoch: 2 [26880/60000 (45%)]\tLoss: 0.296664\n",
            "Training Epoch: 2 [27520/60000 (46%)]\tLoss: 0.335103\n",
            "Training Epoch: 2 [28160/60000 (47%)]\tLoss: 0.229676\n",
            "Training Epoch: 2 [28800/60000 (48%)]\tLoss: 0.356037\n",
            "Training Epoch: 2 [29440/60000 (49%)]\tLoss: 0.248664\n",
            "Training Epoch: 2 [30080/60000 (50%)]\tLoss: 0.131525\n",
            "Training Epoch: 2 [30720/60000 (51%)]\tLoss: 0.367497\n",
            "Training Epoch: 2 [31360/60000 (52%)]\tLoss: 0.481436\n",
            "Training Epoch: 2 [32000/60000 (53%)]\tLoss: 0.360792\n",
            "Training Epoch: 2 [32640/60000 (54%)]\tLoss: 0.244090\n",
            "Training Epoch: 2 [33280/60000 (55%)]\tLoss: 0.344565\n",
            "Training Epoch: 2 [33920/60000 (57%)]\tLoss: 0.425928\n",
            "Training Epoch: 2 [34560/60000 (58%)]\tLoss: 0.222448\n",
            "Training Epoch: 2 [35200/60000 (59%)]\tLoss: 0.402445\n",
            "Training Epoch: 2 [35840/60000 (60%)]\tLoss: 0.312928\n",
            "Training Epoch: 2 [36480/60000 (61%)]\tLoss: 0.239818\n",
            "Training Epoch: 2 [37120/60000 (62%)]\tLoss: 0.387792\n",
            "Training Epoch: 2 [37760/60000 (63%)]\tLoss: 0.504938\n",
            "Training Epoch: 2 [38400/60000 (64%)]\tLoss: 0.169618\n",
            "Training Epoch: 2 [39040/60000 (65%)]\tLoss: 0.290264\n",
            "Training Epoch: 2 [39680/60000 (66%)]\tLoss: 0.335255\n",
            "Training Epoch: 2 [40320/60000 (67%)]\tLoss: 0.297863\n",
            "Training Epoch: 2 [40960/60000 (68%)]\tLoss: 0.186229\n",
            "Training Epoch: 2 [41600/60000 (69%)]\tLoss: 0.473908\n",
            "Training Epoch: 2 [42240/60000 (70%)]\tLoss: 0.347874\n",
            "Training Epoch: 2 [42880/60000 (71%)]\tLoss: 0.242576\n",
            "Training Epoch: 2 [43520/60000 (72%)]\tLoss: 0.454216\n",
            "Training Epoch: 2 [44160/60000 (74%)]\tLoss: 0.252073\n",
            "Training Epoch: 2 [44800/60000 (75%)]\tLoss: 0.401563\n",
            "Training Epoch: 2 [45440/60000 (76%)]\tLoss: 0.523310\n",
            "Training Epoch: 2 [46080/60000 (77%)]\tLoss: 0.551947\n",
            "Training Epoch: 2 [46720/60000 (78%)]\tLoss: 0.259806\n",
            "Training Epoch: 2 [47360/60000 (79%)]\tLoss: 0.230371\n",
            "Training Epoch: 2 [48000/60000 (80%)]\tLoss: 0.382472\n",
            "Training Epoch: 2 [48640/60000 (81%)]\tLoss: 0.558160\n",
            "Training Epoch: 2 [49280/60000 (82%)]\tLoss: 0.165959\n",
            "Training Epoch: 2 [49920/60000 (83%)]\tLoss: 0.457021\n",
            "Training Epoch: 2 [50560/60000 (84%)]\tLoss: 0.366203\n",
            "Training Epoch: 2 [51200/60000 (85%)]\tLoss: 0.113468\n",
            "Training Epoch: 2 [51840/60000 (86%)]\tLoss: 0.185949\n",
            "Training Epoch: 2 [52480/60000 (87%)]\tLoss: 0.423904\n",
            "Training Epoch: 2 [53120/60000 (88%)]\tLoss: 0.231248\n",
            "Training Epoch: 2 [53760/60000 (90%)]\tLoss: 0.580614\n",
            "Training Epoch: 2 [54400/60000 (91%)]\tLoss: 0.340903\n",
            "Training Epoch: 2 [55040/60000 (92%)]\tLoss: 0.349258\n",
            "Training Epoch: 2 [55680/60000 (93%)]\tLoss: 0.344528\n",
            "Training Epoch: 2 [56320/60000 (94%)]\tLoss: 0.138157\n",
            "Training Epoch: 2 [56960/60000 (95%)]\tLoss: 0.309100\n",
            "Training Epoch: 2 [57600/60000 (96%)]\tLoss: 0.395629\n",
            "Training Epoch: 2 [58240/60000 (97%)]\tLoss: 0.213881\n",
            "Training Epoch: 2 [58880/60000 (98%)]\tLoss: 0.343164\n",
            "Training Epoch: 2 [59520/60000 (99%)]\tLoss: 0.379165\n",
            "\n",
            " Results Below:\n",
            "\n",
            "Test set: Average loss: 0.1056, Accuracy: 9672/10000 (97%)\n",
            "\n",
            "Training Epoch: 3 [0/60000 (0%)]\tLoss: 0.359122\n",
            "Training Epoch: 3 [640/60000 (1%)]\tLoss: 0.349178\n",
            "Training Epoch: 3 [1280/60000 (2%)]\tLoss: 0.291632\n",
            "Training Epoch: 3 [1920/60000 (3%)]\tLoss: 0.446460\n",
            "Training Epoch: 3 [2560/60000 (4%)]\tLoss: 0.273050\n",
            "Training Epoch: 3 [3200/60000 (5%)]\tLoss: 0.383200\n",
            "Training Epoch: 3 [3840/60000 (6%)]\tLoss: 0.343797\n",
            "Training Epoch: 3 [4480/60000 (7%)]\tLoss: 0.343993\n",
            "Training Epoch: 3 [5120/60000 (9%)]\tLoss: 0.371252\n",
            "Training Epoch: 3 [5760/60000 (10%)]\tLoss: 0.205115\n",
            "Training Epoch: 3 [6400/60000 (11%)]\tLoss: 0.177127\n",
            "Training Epoch: 3 [7040/60000 (12%)]\tLoss: 0.347896\n",
            "Training Epoch: 3 [7680/60000 (13%)]\tLoss: 0.220503\n",
            "Training Epoch: 3 [8320/60000 (14%)]\tLoss: 0.261514\n",
            "Training Epoch: 3 [8960/60000 (15%)]\tLoss: 0.372083\n",
            "Training Epoch: 3 [9600/60000 (16%)]\tLoss: 0.192557\n",
            "Training Epoch: 3 [10240/60000 (17%)]\tLoss: 0.295074\n",
            "Training Epoch: 3 [10880/60000 (18%)]\tLoss: 0.223063\n",
            "Training Epoch: 3 [11520/60000 (19%)]\tLoss: 0.108573\n",
            "Training Epoch: 3 [12160/60000 (20%)]\tLoss: 0.319003\n",
            "Training Epoch: 3 [12800/60000 (21%)]\tLoss: 0.334390\n",
            "Training Epoch: 3 [13440/60000 (22%)]\tLoss: 0.219555\n",
            "Training Epoch: 3 [14080/60000 (23%)]\tLoss: 0.160496\n",
            "Training Epoch: 3 [14720/60000 (25%)]\tLoss: 0.199413\n",
            "Training Epoch: 3 [15360/60000 (26%)]\tLoss: 0.447764\n",
            "Training Epoch: 3 [16000/60000 (27%)]\tLoss: 0.219835\n",
            "Training Epoch: 3 [16640/60000 (28%)]\tLoss: 0.246383\n",
            "Training Epoch: 3 [17280/60000 (29%)]\tLoss: 0.160065\n",
            "Training Epoch: 3 [17920/60000 (30%)]\tLoss: 0.203275\n",
            "Training Epoch: 3 [18560/60000 (31%)]\tLoss: 0.367823\n",
            "Training Epoch: 3 [19200/60000 (32%)]\tLoss: 0.316558\n",
            "Training Epoch: 3 [19840/60000 (33%)]\tLoss: 0.202121\n",
            "Training Epoch: 3 [20480/60000 (34%)]\tLoss: 0.404569\n",
            "Training Epoch: 3 [21120/60000 (35%)]\tLoss: 0.253885\n",
            "Training Epoch: 3 [21760/60000 (36%)]\tLoss: 0.311778\n",
            "Training Epoch: 3 [22400/60000 (37%)]\tLoss: 0.197928\n",
            "Training Epoch: 3 [23040/60000 (38%)]\tLoss: 0.312070\n",
            "Training Epoch: 3 [23680/60000 (39%)]\tLoss: 0.332955\n",
            "Training Epoch: 3 [24320/60000 (41%)]\tLoss: 0.151452\n",
            "Training Epoch: 3 [24960/60000 (42%)]\tLoss: 0.248930\n",
            "Training Epoch: 3 [25600/60000 (43%)]\tLoss: 0.406299\n",
            "Training Epoch: 3 [26240/60000 (44%)]\tLoss: 0.328180\n",
            "Training Epoch: 3 [26880/60000 (45%)]\tLoss: 0.130441\n",
            "Training Epoch: 3 [27520/60000 (46%)]\tLoss: 0.320894\n",
            "Training Epoch: 3 [28160/60000 (47%)]\tLoss: 0.326390\n",
            "Training Epoch: 3 [28800/60000 (48%)]\tLoss: 0.254840\n",
            "Training Epoch: 3 [29440/60000 (49%)]\tLoss: 0.145950\n",
            "Training Epoch: 3 [30080/60000 (50%)]\tLoss: 0.460237\n",
            "Training Epoch: 3 [30720/60000 (51%)]\tLoss: 0.272128\n",
            "Training Epoch: 3 [31360/60000 (52%)]\tLoss: 0.288944\n",
            "Training Epoch: 3 [32000/60000 (53%)]\tLoss: 0.311885\n",
            "Training Epoch: 3 [32640/60000 (54%)]\tLoss: 0.211819\n",
            "Training Epoch: 3 [33280/60000 (55%)]\tLoss: 0.539928\n",
            "Training Epoch: 3 [33920/60000 (57%)]\tLoss: 0.428361\n",
            "Training Epoch: 3 [34560/60000 (58%)]\tLoss: 0.388166\n",
            "Training Epoch: 3 [35200/60000 (59%)]\tLoss: 0.291199\n",
            "Training Epoch: 3 [35840/60000 (60%)]\tLoss: 0.218144\n",
            "Training Epoch: 3 [36480/60000 (61%)]\tLoss: 0.184166\n",
            "Training Epoch: 3 [37120/60000 (62%)]\tLoss: 0.250519\n",
            "Training Epoch: 3 [37760/60000 (63%)]\tLoss: 0.282028\n",
            "Training Epoch: 3 [38400/60000 (64%)]\tLoss: 0.216034\n",
            "Training Epoch: 3 [39040/60000 (65%)]\tLoss: 0.222432\n",
            "Training Epoch: 3 [39680/60000 (66%)]\tLoss: 0.400431\n",
            "Training Epoch: 3 [40320/60000 (67%)]\tLoss: 0.217026\n",
            "Training Epoch: 3 [40960/60000 (68%)]\tLoss: 0.347819\n",
            "Training Epoch: 3 [41600/60000 (69%)]\tLoss: 0.198434\n",
            "Training Epoch: 3 [42240/60000 (70%)]\tLoss: 0.132291\n",
            "Training Epoch: 3 [42880/60000 (71%)]\tLoss: 0.128678\n",
            "Training Epoch: 3 [43520/60000 (72%)]\tLoss: 0.112224\n",
            "Training Epoch: 3 [44160/60000 (74%)]\tLoss: 0.401195\n",
            "Training Epoch: 3 [44800/60000 (75%)]\tLoss: 0.136496\n",
            "Training Epoch: 3 [45440/60000 (76%)]\tLoss: 0.307306\n",
            "Training Epoch: 3 [46080/60000 (77%)]\tLoss: 0.283944\n",
            "Training Epoch: 3 [46720/60000 (78%)]\tLoss: 0.153684\n",
            "Training Epoch: 3 [47360/60000 (79%)]\tLoss: 0.363910\n",
            "Training Epoch: 3 [48000/60000 (80%)]\tLoss: 0.291231\n",
            "Training Epoch: 3 [48640/60000 (81%)]\tLoss: 0.322235\n",
            "Training Epoch: 3 [49280/60000 (82%)]\tLoss: 0.150686\n",
            "Training Epoch: 3 [49920/60000 (83%)]\tLoss: 0.260211\n",
            "Training Epoch: 3 [50560/60000 (84%)]\tLoss: 0.182959\n",
            "Training Epoch: 3 [51200/60000 (85%)]\tLoss: 0.402320\n",
            "Training Epoch: 3 [51840/60000 (86%)]\tLoss: 0.243555\n",
            "Training Epoch: 3 [52480/60000 (87%)]\tLoss: 0.181301\n",
            "Training Epoch: 3 [53120/60000 (88%)]\tLoss: 0.260439\n",
            "Training Epoch: 3 [53760/60000 (90%)]\tLoss: 0.208912\n",
            "Training Epoch: 3 [54400/60000 (91%)]\tLoss: 0.197349\n",
            "Training Epoch: 3 [55040/60000 (92%)]\tLoss: 0.202007\n",
            "Training Epoch: 3 [55680/60000 (93%)]\tLoss: 0.249746\n",
            "Training Epoch: 3 [56320/60000 (94%)]\tLoss: 0.271957\n",
            "Training Epoch: 3 [56960/60000 (95%)]\tLoss: 0.227332\n",
            "Training Epoch: 3 [57600/60000 (96%)]\tLoss: 0.233147\n",
            "Training Epoch: 3 [58240/60000 (97%)]\tLoss: 0.235144\n",
            "Training Epoch: 3 [58880/60000 (98%)]\tLoss: 0.206520\n",
            "Training Epoch: 3 [59520/60000 (99%)]\tLoss: 0.308221\n",
            "\n",
            " Results Below:\n",
            "\n",
            "Test set: Average loss: 0.0786, Accuracy: 9740/10000 (97%)\n",
            "\n"
          ]
        }
      ]
    },
    {
      "cell_type": "code",
      "source": [
        "# Let's set up a graph to see the model's performance (visually)\n",
        "print(\"Convolutional Model Performance\\n\")\n",
        "\n",
        "graph = plt.figure()\n",
        "# let's make the graph joker themed for the new batman movie!\n",
        "plt.plot(train_counter, train_losses, color='green')\n",
        "plt.scatter(test_counter, test_losses, color='purple')\n",
        "plt.legend(['Train Loss', 'Test Loss'], loc='upper right')\n",
        "plt.xlabel('number of training examples evaluated')\n",
        "plt.ylabel('negative logarithmic loss')\n",
        "graph"
      ],
      "metadata": {
        "colab": {
          "base_uri": "https://localhost:8080/",
          "height": 576
        },
        "id": "WxDiOVuibWZi",
        "outputId": "13fa45d0-9059-49d2-c0ab-40a7c21c32dd"
      },
      "execution_count": 43,
      "outputs": [
        {
          "output_type": "stream",
          "name": "stdout",
          "text": [
            "Convolutional Model Performance\n",
            "\n"
          ]
        },
        {
          "output_type": "execute_result",
          "data": {
            "text/plain": [
              "<Figure size 432x288 with 1 Axes>"
            ],
            "image/png": "[encoded data removed]"
          },
          "metadata": {},
          "execution_count": 43
        },
        {
          "output_type": "display_data",
          "data": {
            "text/plain": [
              "<Figure size 432x288 with 1 Axes>"
            ],
            "image/png": "[encoded data removed]"
          },
          "metadata": {
            "needs_background": "light"
          }
        }
      ]
    },
    {
      "cell_type": "code",
      "source": [
        "with torch.no_grad():\n",
        "  output = model(example_data)"
      ],
      "metadata": {
        "colab": {
          "base_uri": "https://localhost:8080/"
        },
        "id": "AoQN456CcRFD",
        "outputId": "9e46d90a-9f81-41d4-f3dc-35f087aac0e5"
      },
      "execution_count": 44,
      "outputs": [
        {
          "output_type": "stream",
          "name": "stderr",
          "text": [
            "/usr/local/lib/python3.7/dist-packages/ipykernel_launcher.py:18: UserWarning: Implicit dimension choice for log_softmax has been deprecated. Change the call to include dim=X as an argument.\n"
          ]
        }
      ]
    },
    {
      "cell_type": "code",
      "source": [
        "print(\"Our Model Predictions\")\n",
        "\n",
        "graph2 = plt.figure()\n",
        "for i in range(6):\n",
        "  plt.subplot(2,3,i+1)\n",
        "  plt.tight_layout()\n",
        "  plt.imshow(example_data[i][0], cmap='gray', interpolation='none')\n",
        "  plt.title(\"Prediction: {}\".format(\n",
        "    output.data.max(1, keepdim=True)[1][i].item()))\n",
        "  plt.xticks([])\n",
        "  plt.yticks([])\n",
        "graph2"
      ],
      "metadata": {
        "colab": {
          "base_uri": "https://localhost:8080/",
          "height": 568
        },
        "id": "7Uhz2Z50dP_e",
        "outputId": "5998f377-30d0-4e11-d257-bab13c8e0bad"
      },
      "execution_count": 45,
      "outputs": [
        {
          "output_type": "stream",
          "name": "stdout",
          "text": [
            "Our Model Predictions\n"
          ]
        },
        {
          "output_type": "execute_result",
          "data": {
            "text/plain": [
              "<Figure size 432x288 with 6 Axes>"
            ],
            "image/png": "[encoded data removed]"
          },
          "metadata": {},
          "execution_count": 45
        },
        {
          "output_type": "display_data",
          "data": {
            "text/plain": [
              "<Figure size 432x288 with 6 Axes>"
            ],
            "image/png": "[encoded data removed]"
          },
          "metadata": {}
        }
      ]
    },
    {
      "cell_type": "markdown",
      "source": [
        "So in this case, we got lucky and our model was able to accurately predict every digit. Very cool!"
      ],
      "metadata": {
        "id": "6batTnQdz1Ep"
      }
    }
  ]
}